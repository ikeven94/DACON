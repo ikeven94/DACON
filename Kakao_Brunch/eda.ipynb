{
 "cells": [
  {
   "cell_type": "markdown",
   "metadata": {},
   "source": [
    "## Text Recommendation System for KAKAO Brunch User"
   ]
  },
  {
   "cell_type": "markdown",
   "metadata": {},
   "source": [
    "### 글 조회 데이터 전처리\n",
    "- 사용자의 과거 글 소비 기록을 통해 독자들의 소비 성향 판단\n",
    "- 글 조회 기록만으로 협업 필터링 추천 가능"
   ]
  },
  {
   "cell_type": "markdown",
   "metadata": {},
   "source": [
    "- read.tar"
   ]
  },
  {
   "cell_type": "code",
   "execution_count": 1,
   "metadata": {},
   "outputs": [],
   "source": [
    "import os, sys\n",
    "import tqdm"
   ]
  },
  {
   "cell_type": "code",
   "execution_count": 22,
   "metadata": {},
   "outputs": [
    {
     "name": "stderr",
     "output_type": "stream",
     "text": [
      "100%|██████████████████████████████████████████████████████████████████████████████| 3456/3456 [02:44<00:00, 21.03it/s]\n"
     ]
    }
   ],
   "source": [
    "def iterate_data_files(from_dtm,to_dtm):\n",
    "    from_dtm, to_dtm = map(str,[from_dtm, to_dtm])\n",
    "    read_root = os.path.join('C:/Users/USER/DACON/Kakao_Brunch/brunch/','read')\n",
    "    for fname in os.listdir(read_root):\n",
    "        if len(fname) != len('2018100100_2018100103'):\n",
    "            continue\n",
    "        if from_dtm != 'None' and from_dtm > fname:\n",
    "            continue\n",
    "        if to_dtm != 'None' and fname > to_dtm:\n",
    "            continue\n",
    "        path = os.path.join(read_root, fname)\n",
    "        yield path, fname\n",
    "\n",
    "data = [];\n",
    "\n",
    "files = sorted([path for path,_ in iterate_data_files('2018100100','2019022200')])\n",
    "\n",
    "for path in tqdm.tqdm(files, mininterval=1):\n",
    "    for line in open(path):\n",
    "        tokens = line.strip().split()\n",
    "        read_datetime = path[45:55]\n",
    "        user_id = tokens[0]\n",
    "        reads = tokens[1:]\n",
    "        for item in reads:\n",
    "            data.append([read_datetime, user_id, item])\n"
   ]
  },
  {
   "cell_type": "code",
   "execution_count": 23,
   "metadata": {},
   "outputs": [
    {
     "data": {
      "text/html": [
       "<div>\n",
       "<style scoped>\n",
       "    .dataframe tbody tr th:only-of-type {\n",
       "        vertical-align: middle;\n",
       "    }\n",
       "\n",
       "    .dataframe tbody tr th {\n",
       "        vertical-align: top;\n",
       "    }\n",
       "\n",
       "    .dataframe thead th {\n",
       "        text-align: right;\n",
       "    }\n",
       "</style>\n",
       "<table border=\"1\" class=\"dataframe\">\n",
       "  <thead>\n",
       "    <tr style=\"text-align: right;\">\n",
       "      <th></th>\n",
       "      <th>date</th>\n",
       "      <th>user_id</th>\n",
       "      <th>article_id</th>\n",
       "    </tr>\n",
       "  </thead>\n",
       "  <tbody>\n",
       "    <tr>\n",
       "      <th>0</th>\n",
       "      <td>2018100100</td>\n",
       "      <td>#e208be4ffea19b1ceb5cea2e3c4dc32c</td>\n",
       "      <td>@kty0613_91</td>\n",
       "    </tr>\n",
       "    <tr>\n",
       "      <th>1</th>\n",
       "      <td>2018100100</td>\n",
       "      <td>#0a3d493f3b2318be80f391eaa00bfd1c</td>\n",
       "      <td>@miamiyoung_31</td>\n",
       "    </tr>\n",
       "    <tr>\n",
       "      <th>2</th>\n",
       "      <td>2018100100</td>\n",
       "      <td>#0a3d493f3b2318be80f391eaa00bfd1c</td>\n",
       "      <td>@banksalad_49</td>\n",
       "    </tr>\n",
       "    <tr>\n",
       "      <th>3</th>\n",
       "      <td>2018100100</td>\n",
       "      <td>#0a3d493f3b2318be80f391eaa00bfd1c</td>\n",
       "      <td>@rlfrjsdn_95</td>\n",
       "    </tr>\n",
       "    <tr>\n",
       "      <th>4</th>\n",
       "      <td>2018100100</td>\n",
       "      <td>#0a3d493f3b2318be80f391eaa00bfd1c</td>\n",
       "      <td>@readme999_140</td>\n",
       "    </tr>\n",
       "  </tbody>\n",
       "</table>\n",
       "</div>"
      ],
      "text/plain": [
       "         date                            user_id      article_id\n",
       "0  2018100100  #e208be4ffea19b1ceb5cea2e3c4dc32c     @kty0613_91\n",
       "1  2018100100  #0a3d493f3b2318be80f391eaa00bfd1c  @miamiyoung_31\n",
       "2  2018100100  #0a3d493f3b2318be80f391eaa00bfd1c   @banksalad_49\n",
       "3  2018100100  #0a3d493f3b2318be80f391eaa00bfd1c    @rlfrjsdn_95\n",
       "4  2018100100  #0a3d493f3b2318be80f391eaa00bfd1c  @readme999_140"
      ]
     },
     "execution_count": 23,
     "metadata": {},
     "output_type": "execute_result"
    }
   ],
   "source": [
    "import pandas as pd\n",
    "\n",
    "read_df = pd.DataFrame(data)\n",
    "read_df.columns = ['date', 'user_id','article_id']\n",
    "\n",
    "read_df.head()\n"
   ]
  },
  {
   "cell_type": "code",
   "execution_count": 25,
   "metadata": {
    "scrolled": false
   },
   "outputs": [
    {
     "data": {
      "text/plain": [
       "date            3456\n",
       "user_id       296520\n",
       "article_id    495940\n",
       "dtype: int64"
      ]
     },
     "execution_count": 25,
     "metadata": {},
     "output_type": "execute_result"
    }
   ],
   "source": [
    "# 각 Column의 고유값 수\n",
    "read_df.nunique()"
   ]
  },
  {
   "cell_type": "markdown",
   "metadata": {},
   "source": [
    "3456시간 동안 약 29만명의 User가 49만 건의 글 조회"
   ]
  },
  {
   "cell_type": "code",
   "execution_count": 27,
   "metadata": {
    "scrolled": true
   },
   "outputs": [
    {
     "data": {
      "text/plain": [
       "count    296520.000000\n",
       "mean         70.746705\n",
       "std         377.173485\n",
       "min           1.000000\n",
       "25%           3.000000\n",
       "50%          10.000000\n",
       "75%          39.000000\n",
       "max       83688.000000\n",
       "dtype: float64"
      ]
     },
     "execution_count": 27,
     "metadata": {},
     "output_type": "execute_result"
    }
   ],
   "source": [
    "read_df.groupby('user_id').size().describe()"
   ]
  },
  {
   "cell_type": "markdown",
   "metadata": {},
   "source": [
    "User별 평균 70회의 글 조회, 중간값은 10회 <br>\n",
    "가장 많은 글을 조회한 사용자 조회수 : 8만건 이상"
   ]
  },
  {
   "cell_type": "code",
   "execution_count": 34,
   "metadata": {},
   "outputs": [
    {
     "data": {
      "image/png": "[encoded data removed]",
      "text/plain": [
       "<Figure size 1008x432 with 1 Axes>"
      ]
     },
     "metadata": {
      "needs_background": "light"
     },
     "output_type": "display_data"
    }
   ],
   "source": [
    "import matplotlib as mpl\n",
    "import matplotlib.pyplot as plt\n",
    "import seaborn as sns\n",
    "\n",
    "user_read_count_df = read_df.groupby('user_id').size().reset_index().rename(columns= {0:'count'})\n",
    "plt.figure(figsize = (14,6))\n",
    "# 조회수 100회 미만인 글들의 분포도\n",
    "sns.distplot(user_read_count_df[user_read_count_df['count'] < 100]['count'])\n",
    "plt.xlabel(\"Number of articles read\")\n",
    "plt.ylabel(\"Count\")\n",
    "plt.show()"
   ]
  },
  {
   "cell_type": "code",
   "execution_count": 33,
   "metadata": {},
   "outputs": [
    {
     "data": {
      "text/html": [
       "<div>\n",
       "<style scoped>\n",
       "    .dataframe tbody tr th:only-of-type {\n",
       "        vertical-align: middle;\n",
       "    }\n",
       "\n",
       "    .dataframe tbody tr th {\n",
       "        vertical-align: top;\n",
       "    }\n",
       "\n",
       "    .dataframe thead th {\n",
       "        text-align: right;\n",
       "    }\n",
       "</style>\n",
       "<table border=\"1\" class=\"dataframe\">\n",
       "  <thead>\n",
       "    <tr style=\"text-align: right;\">\n",
       "      <th></th>\n",
       "      <th>user_id</th>\n",
       "      <th>count</th>\n",
       "    </tr>\n",
       "  </thead>\n",
       "  <tbody>\n",
       "    <tr>\n",
       "      <th>0</th>\n",
       "      <td>#00001ba6ca8d87d2fc34d626ba9cfe6f</td>\n",
       "      <td>3</td>\n",
       "    </tr>\n",
       "    <tr>\n",
       "      <th>1</th>\n",
       "      <td>#0000d1188f75d0b0ea7a8e23a2b760e5</td>\n",
       "      <td>1</td>\n",
       "    </tr>\n",
       "    <tr>\n",
       "      <th>2</th>\n",
       "      <td>#0000e87158c1426d6ffb72cebac6cb64</td>\n",
       "      <td>2</td>\n",
       "    </tr>\n",
       "    <tr>\n",
       "      <th>3</th>\n",
       "      <td>#0000eea6d339abfd02ed590bc451fc63</td>\n",
       "      <td>1</td>\n",
       "    </tr>\n",
       "    <tr>\n",
       "      <th>4</th>\n",
       "      <td>#0000fdba8f35c76eacab74c5c6bc7f1a</td>\n",
       "      <td>5</td>\n",
       "    </tr>\n",
       "  </tbody>\n",
       "</table>\n",
       "</div>"
      ],
      "text/plain": [
       "                             user_id  count\n",
       "0  #00001ba6ca8d87d2fc34d626ba9cfe6f      3\n",
       "1  #0000d1188f75d0b0ea7a8e23a2b760e5      1\n",
       "2  #0000e87158c1426d6ffb72cebac6cb64      2\n",
       "3  #0000eea6d339abfd02ed590bc451fc63      1\n",
       "4  #0000fdba8f35c76eacab74c5c6bc7f1a      5"
      ]
     },
     "execution_count": 33,
     "metadata": {},
     "output_type": "execute_result"
    }
   ],
   "source": [
    "user_read_count_df.head()"
   ]
  },
  {
   "cell_type": "code",
   "execution_count": 35,
   "metadata": {},
   "outputs": [
    {
     "data": {
      "text/plain": [
       "count    495940.000000\n",
       "mean         42.299095\n",
       "std         283.270460\n",
       "min           1.000000\n",
       "25%           3.000000\n",
       "50%           7.000000\n",
       "75%          24.000000\n",
       "max       96981.000000\n",
       "dtype: float64"
      ]
     },
     "execution_count": 35,
     "metadata": {},
     "output_type": "execute_result"
    }
   ],
   "source": [
    "read_df.groupby('article_id').size().describe()"
   ]
  },
  {
   "cell_type": "markdown",
   "metadata": {},
   "source": [
    "Brunch 글 별 평균 조회수 : 42회, 중간 값 : 7회 <br>\n",
    "가장 많이 조회된 글의 조회수 : 9만 이상 <br>\n",
    "<br>\n",
    "__조회수 높은 글은 무엇일까?__"
   ]
  },
  {
   "cell_type": "code",
   "execution_count": 37,
   "metadata": {},
   "outputs": [
    {
     "data": {
      "text/html": [
       "<div>\n",
       "<style scoped>\n",
       "    .dataframe tbody tr th:only-of-type {\n",
       "        vertical-align: middle;\n",
       "    }\n",
       "\n",
       "    .dataframe tbody tr th {\n",
       "        vertical-align: top;\n",
       "    }\n",
       "\n",
       "    .dataframe thead th {\n",
       "        text-align: right;\n",
       "    }\n",
       "</style>\n",
       "<table border=\"1\" class=\"dataframe\">\n",
       "  <thead>\n",
       "    <tr style=\"text-align: right;\">\n",
       "      <th></th>\n",
       "      <th>article_id</th>\n",
       "      <th>0</th>\n",
       "    </tr>\n",
       "  </thead>\n",
       "  <tbody>\n",
       "    <tr>\n",
       "      <th>0</th>\n",
       "      <td>@brunch_141</td>\n",
       "      <td>96981</td>\n",
       "    </tr>\n",
       "    <tr>\n",
       "      <th>1</th>\n",
       "      <td>@brunch_145</td>\n",
       "      <td>30711</td>\n",
       "    </tr>\n",
       "    <tr>\n",
       "      <th>2</th>\n",
       "      <td>@tenbody_1305</td>\n",
       "      <td>25411</td>\n",
       "    </tr>\n",
       "    <tr>\n",
       "      <th>3</th>\n",
       "      <td>@intlovesong_28</td>\n",
       "      <td>21702</td>\n",
       "    </tr>\n",
       "    <tr>\n",
       "      <th>4</th>\n",
       "      <td>@hyehyodam_19</td>\n",
       "      <td>20506</td>\n",
       "    </tr>\n",
       "    <tr>\n",
       "      <th>5</th>\n",
       "      <td>@brunch_140</td>\n",
       "      <td>20033</td>\n",
       "    </tr>\n",
       "    <tr>\n",
       "      <th>6</th>\n",
       "      <td>@steven_179</td>\n",
       "      <td>19721</td>\n",
       "    </tr>\n",
       "    <tr>\n",
       "      <th>7</th>\n",
       "      <td>@brunch_142</td>\n",
       "      <td>19561</td>\n",
       "    </tr>\n",
       "    <tr>\n",
       "      <th>8</th>\n",
       "      <td>@sangheeshyn_66</td>\n",
       "      <td>18910</td>\n",
       "    </tr>\n",
       "    <tr>\n",
       "      <th>9</th>\n",
       "      <td>@deckey1985_51</td>\n",
       "      <td>18331</td>\n",
       "    </tr>\n",
       "  </tbody>\n",
       "</table>\n",
       "</div>"
      ],
      "text/plain": [
       "        article_id      0\n",
       "0      @brunch_141  96981\n",
       "1      @brunch_145  30711\n",
       "2    @tenbody_1305  25411\n",
       "3  @intlovesong_28  21702\n",
       "4    @hyehyodam_19  20506\n",
       "5      @brunch_140  20033\n",
       "6      @steven_179  19721\n",
       "7      @brunch_142  19561\n",
       "8  @sangheeshyn_66  18910\n",
       "9   @deckey1985_51  18331"
      ]
     },
     "execution_count": 37,
     "metadata": {},
     "output_type": "execute_result"
    }
   ],
   "source": [
    "read_df.groupby('article_id').size().sort_values(ascending=False).reset_index().head(10)"
   ]
  },
  {
   "cell_type": "code",
   "execution_count": null,
   "metadata": {},
   "outputs": [],
   "source": [
    "@brunch는 브런치가 직접 운영하는 계정 <br>\n",
    "@brunch가 생성한 글이 상위권에 많이 포함(상위 10개중 4개)"
   ]
  },
  {
   "cell_type": "markdown",
   "metadata": {},
   "source": [
    "- 조회수가 높은 상위 20개의 글"
   ]
  },
  {
   "cell_type": "code",
   "execution_count": 42,
   "metadata": {},
   "outputs": [
    {
     "data": {
      "image/png": "[encoded data removed]",
      "text/plain": [
       "<Figure size 1008x432 with 1 Axes>"
      ]
     },
     "metadata": {
      "needs_background": "light"
     },
     "output_type": "display_data"
    }
   ],
   "source": [
    "poppular_article_df = read_df.groupby('article_id').size().sort_values(ascending=False).\\\n",
    "                                        reset_index().rename(columns= {0:'read_count'})\n",
    "plt.figure(figsize = (14,6))\n",
    "sns.set_color_codes(\"pastel\")\n",
    "sns.barplot(x='read_count', y='article_id', data=poppular_article_df[0:20],\n",
    "           label=\"Total\", color=\"b\")\n",
    "plt.xlabel('Read Count')\n",
    "plt.ylabel('Article')\n",
    "plt.show()\n"
   ]
  },
  {
   "cell_type": "markdown",
   "metadata": {},
   "source": [
    "### 글의 메타 데이터\n",
    "- metadata.json"
   ]
  },
  {
   "cell_type": "code",
   "execution_count": 43,
   "metadata": {},
   "outputs": [
    {
     "data": {
      "text/html": [
       "<div>\n",
       "<style scoped>\n",
       "    .dataframe tbody tr th:only-of-type {\n",
       "        vertical-align: middle;\n",
       "    }\n",
       "\n",
       "    .dataframe tbody tr th {\n",
       "        vertical-align: top;\n",
       "    }\n",
       "\n",
       "    .dataframe thead th {\n",
       "        text-align: right;\n",
       "    }\n",
       "</style>\n",
       "<table border=\"1\" class=\"dataframe\">\n",
       "  <thead>\n",
       "    <tr style=\"text-align: right;\">\n",
       "      <th></th>\n",
       "      <th>magazine_id</th>\n",
       "      <th>user_id</th>\n",
       "      <th>title</th>\n",
       "      <th>keyword_list</th>\n",
       "      <th>display_url</th>\n",
       "      <th>sub_title</th>\n",
       "      <th>reg_ts</th>\n",
       "      <th>article_id</th>\n",
       "      <th>id</th>\n",
       "    </tr>\n",
       "  </thead>\n",
       "  <tbody>\n",
       "    <tr>\n",
       "      <th>0</th>\n",
       "      <td>8982</td>\n",
       "      <td>@bookdb</td>\n",
       "      <td>사진으로 옮기기에도 아까운, 리치필드 국립공원</td>\n",
       "      <td>[여행, 호주, 국립공원]</td>\n",
       "      <td>https://brunch.co.kr/@bookdb/782</td>\n",
       "      <td>세상 어디에도 없는 호주 Top 10</td>\n",
       "      <td>1474944427000</td>\n",
       "      <td>782</td>\n",
       "      <td>@bookdb_782</td>\n",
       "    </tr>\n",
       "    <tr>\n",
       "      <th>1</th>\n",
       "      <td>12081</td>\n",
       "      <td>@kohwang56</td>\n",
       "      <td>[시] 서러운 봄</td>\n",
       "      <td>[목련꽃, 아지랑이, 동행]</td>\n",
       "      <td>https://brunch.co.kr/@kohwang56/81</td>\n",
       "      <td></td>\n",
       "      <td>1463092749000</td>\n",
       "      <td>81</td>\n",
       "      <td>@kohwang56_81</td>\n",
       "    </tr>\n",
       "    <tr>\n",
       "      <th>2</th>\n",
       "      <td>0</td>\n",
       "      <td>@hannahajink</td>\n",
       "      <td>무엇을 위해</td>\n",
       "      <td>[]</td>\n",
       "      <td>https://brunch.co.kr/@hannahajink/4</td>\n",
       "      <td>무엇 때문에</td>\n",
       "      <td>1447997287000</td>\n",
       "      <td>4</td>\n",
       "      <td>@hannahajink_4</td>\n",
       "    </tr>\n",
       "    <tr>\n",
       "      <th>3</th>\n",
       "      <td>16315</td>\n",
       "      <td>@bryceandjuli</td>\n",
       "      <td>싫다</td>\n",
       "      <td>[감정, 마음, 위로]</td>\n",
       "      <td>https://brunch.co.kr/@bryceandjuli/88</td>\n",
       "      <td></td>\n",
       "      <td>1491055161000</td>\n",
       "      <td>88</td>\n",
       "      <td>@bryceandjuli_88</td>\n",
       "    </tr>\n",
       "    <tr>\n",
       "      <th>4</th>\n",
       "      <td>29363</td>\n",
       "      <td>@mijeongpark</td>\n",
       "      <td>Dubliner#7</td>\n",
       "      <td>[유럽여행, 더블린, 아일랜드]</td>\n",
       "      <td>https://brunch.co.kr/@mijeongpark/34</td>\n",
       "      <td>#7. 내 친구의 집은 어디인가</td>\n",
       "      <td>1523292942000</td>\n",
       "      <td>34</td>\n",
       "      <td>@mijeongpark_34</td>\n",
       "    </tr>\n",
       "  </tbody>\n",
       "</table>\n",
       "</div>"
      ],
      "text/plain": [
       "   magazine_id        user_id                      title       keyword_list  \\\n",
       "0         8982        @bookdb  사진으로 옮기기에도 아까운, 리치필드 국립공원     [여행, 호주, 국립공원]   \n",
       "1        12081     @kohwang56                  [시] 서러운 봄    [목련꽃, 아지랑이, 동행]   \n",
       "2            0   @hannahajink                     무엇을 위해                 []   \n",
       "3        16315  @bryceandjuli                         싫다       [감정, 마음, 위로]   \n",
       "4        29363   @mijeongpark                 Dubliner#7  [유럽여행, 더블린, 아일랜드]   \n",
       "\n",
       "                             display_url             sub_title         reg_ts  \\\n",
       "0       https://brunch.co.kr/@bookdb/782  세상 어디에도 없는 호주 Top 10  1474944427000   \n",
       "1     https://brunch.co.kr/@kohwang56/81                        1463092749000   \n",
       "2    https://brunch.co.kr/@hannahajink/4                무엇 때문에  1447997287000   \n",
       "3  https://brunch.co.kr/@bryceandjuli/88                        1491055161000   \n",
       "4   https://brunch.co.kr/@mijeongpark/34     #7. 내 친구의 집은 어디인가  1523292942000   \n",
       "\n",
       "   article_id                id  \n",
       "0         782       @bookdb_782  \n",
       "1          81     @kohwang56_81  \n",
       "2           4    @hannahajink_4  \n",
       "3          88  @bryceandjuli_88  \n",
       "4          34   @mijeongpark_34  "
      ]
     },
     "execution_count": 43,
     "metadata": {},
     "output_type": "execute_result"
    }
   ],
   "source": [
    "meta_df = pd.read_json('C:/Users/USER/DACON/Kakao_Brunch/brunch/metadata.json', lines=True)\n",
    "meta_df.head()"
   ]
  },
  {
   "cell_type": "code",
   "execution_count": 49,
   "metadata": {},
   "outputs": [
    {
     "data": {
      "text/plain": [
       "(643104, 9)"
      ]
     },
     "execution_count": 49,
     "metadata": {},
     "output_type": "execute_result"
    }
   ],
   "source": [
    "meta_df.shape"
   ]
  },
  {
   "cell_type": "code",
   "execution_count": 46,
   "metadata": {},
   "outputs": [
    {
     "data": {
      "text/plain": [
       "643104"
      ]
     },
     "execution_count": 46,
     "metadata": {},
     "output_type": "execute_result"
    }
   ],
   "source": [
    "meta_df['id'].nunique()"
   ]
  },
  {
   "cell_type": "code",
   "execution_count": 47,
   "metadata": {},
   "outputs": [
    {
     "data": {
      "text/plain": [
       "19065"
      ]
     },
     "execution_count": 47,
     "metadata": {},
     "output_type": "execute_result"
    }
   ],
   "source": [
    "meta_df['user_id'].nunique()"
   ]
  },
  {
   "cell_type": "markdown",
   "metadata": {},
   "source": [
    "글을 작성한 작가는 19605명, 총 643104개의 글의 수"
   ]
  },
  {
   "cell_type": "code",
   "execution_count": 48,
   "metadata": {},
   "outputs": [
    {
     "data": {
      "text/plain": [
       "count    19065.000000\n",
       "mean        33.732179\n",
       "std         87.706369\n",
       "min          1.000000\n",
       "25%          4.000000\n",
       "50%         11.000000\n",
       "75%         31.000000\n",
       "max       4106.000000\n",
       "dtype: float64"
      ]
     },
     "execution_count": 48,
     "metadata": {},
     "output_type": "execute_result"
    }
   ],
   "source": [
    "meta_df.groupby('user_id').size().describe()"
   ]
  },
  {
   "cell_type": "markdown",
   "metadata": {},
   "source": [
    "작가 별 평균 33편의 글 작성"
   ]
  },
  {
   "cell_type": "code",
   "execution_count": 51,
   "metadata": {},
   "outputs": [
    {
     "data": {
      "text/plain": [
       "28028"
      ]
     },
     "execution_count": 51,
     "metadata": {},
     "output_type": "execute_result"
    }
   ],
   "source": [
    "meta_df['magazine_id'].nunique()"
   ]
  },
  {
   "cell_type": "code",
   "execution_count": 52,
   "metadata": {},
   "outputs": [
    {
     "data": {
      "text/plain": [
       "(482281, 9)"
      ]
     },
     "execution_count": 52,
     "metadata": {},
     "output_type": "execute_result"
    }
   ],
   "source": [
    "meta_df[meta_df['magazine_id'] != 0].shape"
   ]
  },
  {
   "cell_type": "code",
   "execution_count": 53,
   "metadata": {},
   "outputs": [
    {
     "data": {
      "text/plain": [
       "count     28028.000000\n",
       "mean         22.945055\n",
       "std         961.348331\n",
       "min           1.000000\n",
       "25%           3.000000\n",
       "50%           8.000000\n",
       "75%          18.000000\n",
       "max      160823.000000\n",
       "dtype: float64"
      ]
     },
     "execution_count": 53,
     "metadata": {},
     "output_type": "execute_result"
    }
   ],
   "source": [
    "meta_df.groupby('magazine_id').size().describe()"
   ]
  },
  {
   "cell_type": "markdown",
   "metadata": {},
   "source": [
    "magazine의 수는 28028 <br>\n",
    "magazine에 속한 글은 482281개, 속하지 않은 글은 160283개 <br>\n",
    "magazine에는 평균적으로 22.9편이 글이 존재"
   ]
  },
  {
   "cell_type": "code",
   "execution_count": null,
   "metadata": {},
   "outputs": [],
   "source": []
  },
  {
   "cell_type": "markdown",
   "metadata": {},
   "source": [
    "### 사용자 정보"
   ]
  },
  {
   "cell_type": "code",
   "execution_count": null,
   "metadata": {},
   "outputs": [],
   "source": []
  }
 ],
 "metadata": {
  "kernelspec": {
   "display_name": "Python 3",
   "language": "python",
   "name": "python3"
  },
  "language_info": {
   "codemirror_mode": {
    "name": "ipython",
    "version": 3
   },
   "file_extension": ".py",
   "mimetype": "text/x-python",
   "name": "python",
   "nbconvert_exporter": "python",
   "pygments_lexer": "ipython3",
   "version": "3.8.3"
  }
 },
 "nbformat": 4,
 "nbformat_minor": 4
}
