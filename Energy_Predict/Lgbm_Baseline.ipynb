{
 "cells": [
  {
   "cell_type": "code",
   "execution_count": 1,
   "metadata": {},
   "outputs": [],
   "source": [
    "import matplotlib.pyplot as plt\n",
    "import numpy as np\n",
    "import pandas as pd\n",
    "import seaborn as sns"
   ]
  },
  {
   "cell_type": "code",
   "execution_count": 3,
   "metadata": {},
   "outputs": [],
   "source": [
    "plt.rcParams['font.family'] = 'NanumBarunGothic'\n",
    "%config inlinebackend.figure_format = 'retina'\n",
    "plt.rcParams['figure.dpi'] = 100 "
   ]
  },
  {
   "cell_type": "markdown",
   "metadata": {},
   "source": [
    "### 데이터 전처리"
   ]
  },
  {
   "cell_type": "code",
   "execution_count": 9,
   "metadata": {},
   "outputs": [],
   "source": [
    "path = 'C:/Users/USER/DACON/Energy_Predict/data/'\n",
    "\n",
    "train = pd.read_csv(path +'train.csv', encoding='cp949')\n",
    "train['date_time'] = pd.to_datetime(train['date_time'])\n",
    "test = pd.read_csv(path + 'test.csv', encoding='cp949')\n",
    "test['date_time'] = pd.to_datetime(test['date_time'])\n",
    "\n",
    "sample_submission = pd.read_csv(path + 'sample_submission.csv', encoding='cp949')"
   ]
  },
  {
   "cell_type": "code",
   "execution_count": 10,
   "metadata": {},
   "outputs": [
    {
     "name": "stdout",
     "output_type": "stream",
     "text": [
      "<class 'pandas.core.frame.DataFrame'>\n",
      "RangeIndex: 122400 entries, 0 to 122399\n",
      "Data columns (total 10 columns):\n",
      " #   Column      Non-Null Count   Dtype         \n",
      "---  ------      --------------   -----         \n",
      " 0   num         122400 non-null  int64         \n",
      " 1   date_time   122400 non-null  datetime64[ns]\n",
      " 2   전력사용량(kWh)  122400 non-null  float64       \n",
      " 3   기온(°C)      122400 non-null  float64       \n",
      " 4   풍속(m/s)     122400 non-null  float64       \n",
      " 5   습도(%)       122400 non-null  float64       \n",
      " 6   강수량(mm)     122400 non-null  float64       \n",
      " 7   일조(hr)      122400 non-null  float64       \n",
      " 8   비전기냉방설비운영   122400 non-null  float64       \n",
      " 9   태양광보유       122400 non-null  float64       \n",
      "dtypes: datetime64[ns](1), float64(8), int64(1)\n",
      "memory usage: 9.3 MB\n",
      "==================================================\n"
     ]
    },
    {
     "data": {
      "text/plain": [
       "num           0\n",
       "date_time     0\n",
       "전력사용량(kWh)    0\n",
       "기온(°C)        0\n",
       "풍속(m/s)       0\n",
       "습도(%)         0\n",
       "강수량(mm)       0\n",
       "일조(hr)        0\n",
       "비전기냉방설비운영     0\n",
       "태양광보유         0\n",
       "dtype: int64"
      ]
     },
     "execution_count": 10,
     "metadata": {},
     "output_type": "execute_result"
    }
   ],
   "source": [
    "train.info()\n",
    "print('='*50)\n",
    "train.isnull().sum() # null값 없음"
   ]
  },
  {
   "cell_type": "code",
   "execution_count": 11,
   "metadata": {},
   "outputs": [
    {
     "name": "stdout",
     "output_type": "stream",
     "text": [
      "<class 'pandas.core.frame.DataFrame'>\n",
      "RangeIndex: 10080 entries, 0 to 10079\n",
      "Data columns (total 9 columns):\n",
      " #   Column        Non-Null Count  Dtype         \n",
      "---  ------        --------------  -----         \n",
      " 0   num           10080 non-null  int64         \n",
      " 1   date_time     10080 non-null  datetime64[ns]\n",
      " 2   기온(°C)        3360 non-null   float64       \n",
      " 3   풍속(m/s)       3360 non-null   float64       \n",
      " 4   습도(%)         3360 non-null   float64       \n",
      " 5   강수량(mm, 6시간)  1680 non-null   float64       \n",
      " 6   일조(hr, 3시간)   3360 non-null   float64       \n",
      " 7   비전기냉방설비운영     2296 non-null   float64       \n",
      " 8   태양광보유         1624 non-null   float64       \n",
      "dtypes: datetime64[ns](1), float64(7), int64(1)\n",
      "memory usage: 708.9 KB\n",
      "==================================================\n"
     ]
    },
    {
     "data": {
      "text/plain": [
       "num                0\n",
       "date_time          0\n",
       "기온(°C)          6720\n",
       "풍속(m/s)         6720\n",
       "습도(%)           6720\n",
       "강수량(mm, 6시간)    8400\n",
       "일조(hr, 3시간)     6720\n",
       "비전기냉방설비운영       7784\n",
       "태양광보유           8456\n",
       "dtype: int64"
      ]
     },
     "execution_count": 11,
     "metadata": {},
     "output_type": "execute_result"
    }
   ],
   "source": [
    "test.info()\n",
    "print('='*50)\n",
    "test.isnull().sum() # test null 값 존재"
   ]
  },
  {
   "cell_type": "code",
   "execution_count": null,
   "metadata": {},
   "outputs": [],
   "source": []
  },
  {
   "cell_type": "code",
   "execution_count": null,
   "metadata": {},
   "outputs": [],
   "source": []
  },
  {
   "cell_type": "code",
   "execution_count": null,
   "metadata": {},
   "outputs": [],
   "source": []
  },
  {
   "cell_type": "code",
   "execution_count": null,
   "metadata": {},
   "outputs": [],
   "source": []
  },
  {
   "cell_type": "code",
   "execution_count": null,
   "metadata": {},
   "outputs": [],
   "source": []
  },
  {
   "cell_type": "code",
   "execution_count": null,
   "metadata": {},
   "outputs": [],
   "source": []
  },
  {
   "cell_type": "code",
   "execution_count": null,
   "metadata": {},
   "outputs": [],
   "source": []
  }
 ],
 "metadata": {
  "kernelspec": {
   "display_name": "Python 3",
   "language": "python",
   "name": "python3"
  },
  "language_info": {
   "codemirror_mode": {
    "name": "ipython",
    "version": 3
   },
   "file_extension": ".py",
   "mimetype": "text/x-python",
   "name": "python",
   "nbconvert_exporter": "python",
   "pygments_lexer": "ipython3",
   "version": "3.8.3"
  }
 },
 "nbformat": 4,
 "nbformat_minor": 4
}
